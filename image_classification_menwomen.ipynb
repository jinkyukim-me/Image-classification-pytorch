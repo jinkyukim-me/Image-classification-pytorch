{
  "nbformat": 4,
  "nbformat_minor": 0,
  "metadata": {
    "colab": {
      "name": "image_classification_menwomen.ipynb",
      "provenance": [],
      "collapsed_sections": [],
      "include_colab_link": true
    },
    "kernelspec": {
      "name": "python3",
      "display_name": "Python 3"
    },
    "accelerator": "GPU"
  },
  "cells": [
    {
      "cell_type": "markdown",
      "metadata": {
        "id": "view-in-github",
        "colab_type": "text"
      },
      "source": [
        "<a href=\"https://colab.research.google.com/github/jinkyukim-me/Image-classification-pytorch/blob/master/image_classification_menwomen.ipynb\" target=\"_parent\"><img src=\"https://colab.research.google.com/assets/colab-badge.svg\" alt=\"Open In Colab\"/></a>"
      ]
    },
    {
      "cell_type": "code",
      "metadata": {
        "id": "0blPz8Px7poF",
        "colab_type": "code",
        "colab": {}
      },
      "source": [
        "from google.colab import auth\n",
        "auth.authenticate_user()"
      ],
      "execution_count": 0,
      "outputs": []
    },
    {
      "cell_type": "code",
      "metadata": {
        "id": "TBzD0DBl7zTu",
        "colab_type": "code",
        "outputId": "cc250b68-7a33-413e-8090-b9b991319852",
        "colab": {
          "base_uri": "https://localhost:8080/",
          "height": 122
        }
      },
      "source": [
        "from google.colab import drive\n",
        "drive.mount('/content/gdrive')"
      ],
      "execution_count": 2,
      "outputs": [
        {
          "output_type": "stream",
          "text": [
            "Go to this URL in a browser: https://accounts.google.com/o/oauth2/auth?client_id=947318989803-6bn6qk8qdgf4n4g3pfee6491hc0brc4i.apps.googleusercontent.com&redirect_uri=urn%3Aietf%3Awg%3Aoauth%3A2.0%3Aoob&scope=email%20https%3A%2F%2Fwww.googleapis.com%2Fauth%2Fdocs.test%20https%3A%2F%2Fwww.googleapis.com%2Fauth%2Fdrive%20https%3A%2F%2Fwww.googleapis.com%2Fauth%2Fdrive.photos.readonly%20https%3A%2F%2Fwww.googleapis.com%2Fauth%2Fpeopleapi.readonly&response_type=code\n",
            "\n",
            "Enter your authorization code:\n",
            "··········\n",
            "Mounted at /content/gdrive\n"
          ],
          "name": "stdout"
        }
      ]
    },
    {
      "cell_type": "code",
      "metadata": {
        "id": "j7w5gNFG3j2M",
        "colab_type": "code",
        "colab": {}
      },
      "source": [
        "import torch\n",
        "import torch.nn as nn\n",
        "import torch.nn.functional as F\n",
        "import torch.optim as optim\n",
        "from torch.utils.data import DataLoader\n",
        "import torchvision\n",
        "import torchvision.transforms as transforms\n",
        "import torchvision.datasets as dsets\n",
        "from torchsummary import summary \n",
        "import math\n",
        "import numpy as np"
      ],
      "execution_count": 0,
      "outputs": []
    },
    {
      "cell_type": "code",
      "metadata": {
        "id": "LV_ooWeT4idg",
        "colab_type": "code",
        "colab": {}
      },
      "source": [
        "device = 'cuda' if torch.cuda.is_available() else 'cpu'\n",
        "\n",
        "torch.manual_seed(777)\n",
        "if device == 'cuda':\n",
        "    torch.cuda.manual_seed_all(777)"
      ],
      "execution_count": 0,
      "outputs": []
    },
    {
      "cell_type": "code",
      "metadata": {
        "id": "Vjg5Qz9K4j-f",
        "colab_type": "code",
        "colab": {}
      },
      "source": [
        "#parameters\n",
        "learning_rate = 0.02\n",
        "training_epochs = 30\n",
        "batch_size = 100"
      ],
      "execution_count": 0,
      "outputs": []
    },
    {
      "cell_type": "code",
      "metadata": {
        "id": "r0KneRLbPVlD",
        "colab_type": "code",
        "colab": {}
      },
      "source": [
        "trans = transforms.Compose([transforms.Resize((224, 224)), \n",
        "                            transforms.ToTensor(),\n",
        "                            transforms.Normalize((0.485, 0.456, 0.406), (0.229, 0.224, 0.225))])\n",
        "\n",
        "train_data = dsets.ImageFolder(root='/content/gdrive/My Drive/project/classification/menwomen/data/train_data',\n",
        "                               transform=trans)"
      ],
      "execution_count": 0,
      "outputs": []
    },
    {
      "cell_type": "code",
      "metadata": {
        "id": "M8oTcZu9QTD1",
        "colab_type": "code",
        "colab": {}
      },
      "source": [
        "#Dataloader\n",
        "data_loader = DataLoader(dataset = train_data, batch_size = batch_size,\n",
        "                         shuffle = True, num_workers=2, drop_last=True)"
      ],
      "execution_count": 0,
      "outputs": []
    },
    {
      "cell_type": "code",
      "metadata": {
        "id": "lhdajHAbQW5N",
        "colab_type": "code",
        "colab": {}
      },
      "source": [
        "#model CNN\n",
        "class CNN(nn.Module):\n",
        "    def __init__(self):\n",
        "        super(CNN, self).__init__()\n",
        "        # convolutional layer\n",
        "        self.conv1 = nn.Conv2d(3, 16, 5)\n",
        "        # max pooling layer\n",
        "        self.pool = nn.MaxPool2d(2, 2)\n",
        "        self.conv2 = nn.Conv2d(16, 32, 5)\n",
        "        self.dropout = nn.Dropout(0.2)\n",
        "        self.fc1 = nn.Linear(32*53*53, 256)\n",
        "        self.fc2 = nn.Linear(256, 84)\n",
        "        self.fc3 = nn.Linear(84, 2)\n",
        "        self.softmax = nn.LogSoftmax(dim=1)\n",
        "\n",
        "    def forward(self, x):\n",
        "        # add sequence of convolutional and max pooling layers\n",
        "        x = self.pool(F.relu(self.conv1(x)))\n",
        "        x = self.pool(F.relu(self.conv2(x)))\n",
        "        x = self.dropout(x)\n",
        "        x = x.view(-1, 32*53*53)\n",
        "        x = F.relu(self.fc1(x))\n",
        "        x = self.dropout(F.relu(self.fc2(x)))\n",
        "        x = self.softmax(self.fc3(x))\n",
        "        return x\n"
      ],
      "execution_count": 0,
      "outputs": []
    },
    {
      "cell_type": "code",
      "metadata": {
        "id": "0bIwbj55Rn0F",
        "colab_type": "code",
        "colab": {}
      },
      "source": [
        "model = CNN().to(device)"
      ],
      "execution_count": 0,
      "outputs": []
    },
    {
      "cell_type": "code",
      "metadata": {
        "id": "Eob7vUofwPwl",
        "colab_type": "code",
        "colab": {}
      },
      "source": [
        "test_input = (torch.Tensor(3,3,224,224)).to(device)\n",
        "test_out = model(test_input)"
      ],
      "execution_count": 0,
      "outputs": []
    },
    {
      "cell_type": "code",
      "metadata": {
        "id": "IlW1Ep-hQY3D",
        "colab_type": "code",
        "colab": {}
      },
      "source": [
        "#loss function\n",
        "criterion = nn.CrossEntropyLoss().to(device)"
      ],
      "execution_count": 0,
      "outputs": []
    },
    {
      "cell_type": "code",
      "metadata": {
        "id": "dygsraqZQbcj",
        "colab_type": "code",
        "colab": {}
      },
      "source": [
        "#optimizer\n",
        "optimizer = optim.SGD(model.parameters(), lr=learning_rate, momentum= 0.9)"
      ],
      "execution_count": 0,
      "outputs": []
    },
    {
      "cell_type": "code",
      "metadata": {
        "id": "BU6NhxO1Qc7z",
        "colab_type": "code",
        "colab": {
          "base_uri": "https://localhost:8080/",
          "height": 561
        },
        "outputId": "e01ab821-8aa5-4305-92de-2de1e8c87eb4"
      },
      "source": [
        "#training\n",
        "total_batch = len(data_loader)\n",
        "print('Learning Started. It will takes some time.')\n",
        "\n",
        "for epoch in range(training_epochs):\n",
        "    avg_cost = 0\n",
        "    for num, data in enumerate(data_loader): \n",
        "        imgs, labels = data\n",
        "        imgs = imgs.to(device) #input data\n",
        "        labels = labels.to(device) #label data\n",
        "        \n",
        "        optimizer.zero_grad()\n",
        "        hypothesis = model(imgs) #model에 input값을 넣으면 가설이 됨\n",
        "        \n",
        "        cost = criterion(hypothesis, labels) #가설과 실제 라벨 사이의 차이를 계산하는 loss\n",
        "        cost.backward()\n",
        "        optimizer.step()\n",
        "        \n",
        "        avg_cost += cost / total_batch #cost값을 쌓아줌\n",
        "        \n",
        "    print('[Epoch:{}] cost = {}'.format(epoch +1, avg_cost))\n",
        "print('Learning Finished!')"
      ],
      "execution_count": 13,
      "outputs": [
        {
          "output_type": "stream",
          "text": [
            "Learning Started. It will takes some time.\n",
            "[Epoch:1] cost = 0.6693483591079712\n",
            "[Epoch:2] cost = 0.6365360021591187\n",
            "[Epoch:3] cost = 0.6195275187492371\n",
            "[Epoch:4] cost = 0.6151260137557983\n",
            "[Epoch:5] cost = 0.5999544858932495\n",
            "[Epoch:6] cost = 0.5957223773002625\n",
            "[Epoch:7] cost = 0.573940634727478\n",
            "[Epoch:8] cost = 0.4987434148788452\n",
            "[Epoch:9] cost = 0.4365752637386322\n",
            "[Epoch:10] cost = 0.31793490052223206\n",
            "[Epoch:11] cost = 0.268046498298645\n",
            "[Epoch:12] cost = 0.19657377898693085\n",
            "[Epoch:13] cost = 0.2111387699842453\n",
            "[Epoch:14] cost = 0.18957430124282837\n",
            "[Epoch:15] cost = 0.10371553897857666\n",
            "[Epoch:16] cost = 0.11801067739725113\n",
            "[Epoch:17] cost = 0.056754086166620255\n",
            "[Epoch:18] cost = 0.060085441917181015\n",
            "[Epoch:19] cost = 0.03595319390296936\n",
            "[Epoch:20] cost = 0.02559475228190422\n",
            "[Epoch:21] cost = 0.00941858533769846\n",
            "[Epoch:22] cost = 0.006489775143563747\n",
            "[Epoch:23] cost = 0.009852143935859203\n",
            "[Epoch:24] cost = 0.05478038638830185\n",
            "[Epoch:25] cost = 0.02952960878610611\n",
            "[Epoch:26] cost = 0.028935084119439125\n",
            "[Epoch:27] cost = 0.027149748057127\n",
            "[Epoch:28] cost = 0.007651933468878269\n",
            "[Epoch:29] cost = 0.004932748153805733\n",
            "[Epoch:30] cost = 0.015609202906489372\n",
            "Learning Finished!\n"
          ],
          "name": "stdout"
        }
      ]
    },
    {
      "cell_type": "code",
      "metadata": {
        "id": "vbVJpj-3QkU4",
        "colab_type": "code",
        "colab": {}
      },
      "source": [
        "trans = transforms.Compose([transforms.Resize((224, 224)), \n",
        "                            transforms.ToTensor(), \n",
        "                            transforms.Normalize((0.485, 0.456, 0.406), (0.229, 0.224, 0.225))])\n",
        "\n",
        "test_data = dsets.ImageFolder(root='/content/gdrive/My Drive/project/classification/menwomen/data/test_data',\n",
        "                               transform=trans)"
      ],
      "execution_count": 0,
      "outputs": []
    },
    {
      "cell_type": "code",
      "metadata": {
        "id": "mHzbRurdQpxj",
        "colab_type": "code",
        "colab": {}
      },
      "source": [
        "test_set = DataLoader(dataset = test_data, batch_size = len(test_data))"
      ],
      "execution_count": 0,
      "outputs": []
    },
    {
      "cell_type": "code",
      "metadata": {
        "id": "_rNTYm7ML1fl",
        "colab_type": "code",
        "colab": {
          "base_uri": "https://localhost:8080/",
          "height": 34
        },
        "outputId": "bc1f63dc-e8cb-4827-c553-5d96016257e6"
      },
      "source": [
        "correct = 0\n",
        "total = 0\n",
        "\n",
        "with torch.no_grad():\n",
        "    for data in test_set:\n",
        "        images, labels = data\n",
        "        images = images.to(device)\n",
        "        labels = labels.to(device)\n",
        "        outputs = model(images)\n",
        "        \n",
        "        _, predicted = torch.max(outputs.data, 1)\n",
        "        \n",
        "        total += labels.size(0)\n",
        "        \n",
        "        correct += (predicted == labels).sum().item()\n",
        "\n",
        "print('Accuracy of CNN on the test images: %d %%' % (\n",
        "    100 * correct / total))"
      ],
      "execution_count": 16,
      "outputs": [
        {
          "output_type": "stream",
          "text": [
            "Accuracy of CNN on the test images: 63 %\n"
          ],
          "name": "stdout"
        }
      ]
    },
    {
      "cell_type": "code",
      "metadata": {
        "id": "YsXtODTBUht8",
        "colab_type": "code",
        "colab": {}
      },
      "source": [
        ""
      ],
      "execution_count": 0,
      "outputs": []
    }
  ]
}