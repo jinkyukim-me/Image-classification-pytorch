{
  "nbformat": 4,
  "nbformat_minor": 0,
  "metadata": {
    "colab": {
      "name": "image_classification_catsdogs.ipynb",
      "provenance": [],
      "collapsed_sections": [],
      "include_colab_link": true
    },
    "kernelspec": {
      "name": "python3",
      "display_name": "Python 3"
    },
    "accelerator": "GPU"
  },
  "cells": [
    {
      "cell_type": "markdown",
      "metadata": {
        "id": "view-in-github",
        "colab_type": "text"
      },
      "source": [
        "<a href=\"https://colab.research.google.com/github/jinkyukim-me/Image-classification-pytorch/blob/master/image_classification_catsdogs.ipynb\" target=\"_parent\"><img src=\"https://colab.research.google.com/assets/colab-badge.svg\" alt=\"Open In Colab\"/></a>"
      ]
    },
    {
      "cell_type": "code",
      "metadata": {
        "id": "0blPz8Px7poF",
        "colab_type": "code",
        "colab": {}
      },
      "source": [
        "from google.colab import auth\n",
        "auth.authenticate_user()"
      ],
      "execution_count": 0,
      "outputs": []
    },
    {
      "cell_type": "code",
      "metadata": {
        "id": "TBzD0DBl7zTu",
        "colab_type": "code",
        "outputId": "ba8d265e-6097-4660-8552-a275158f5ff2",
        "colab": {
          "base_uri": "https://localhost:8080/",
          "height": 54
        }
      },
      "source": [
        "from google.colab import drive\n",
        "drive.mount('/content/gdrive')"
      ],
      "execution_count": 158,
      "outputs": [
        {
          "output_type": "stream",
          "text": [
            "Drive already mounted at /content/gdrive; to attempt to forcibly remount, call drive.mount(\"/content/gdrive\", force_remount=True).\n"
          ],
          "name": "stdout"
        }
      ]
    },
    {
      "cell_type": "code",
      "metadata": {
        "id": "j7w5gNFG3j2M",
        "colab_type": "code",
        "colab": {}
      },
      "source": [
        "import torch\n",
        "import torch.nn as nn\n",
        "import torch.nn.functional as F\n",
        "import torch.optim as optim\n",
        "from torch.utils.data import DataLoader\n",
        "import torchvision\n",
        "import torchvision.transforms as transforms\n",
        "import torchvision.datasets as dsets\n",
        "from torchsummary import summary \n",
        "import math\n",
        "import numpy as np"
      ],
      "execution_count": 0,
      "outputs": []
    },
    {
      "cell_type": "code",
      "metadata": {
        "id": "LV_ooWeT4idg",
        "colab_type": "code",
        "colab": {}
      },
      "source": [
        "device = 'cuda' if torch.cuda.is_available() else 'cpu'\n",
        "\n",
        "torch.manual_seed(777)\n",
        "if device == 'cuda':\n",
        "    torch.cuda.manual_seed_all(777)"
      ],
      "execution_count": 0,
      "outputs": []
    },
    {
      "cell_type": "code",
      "metadata": {
        "id": "Vjg5Qz9K4j-f",
        "colab_type": "code",
        "colab": {}
      },
      "source": [
        "#parameters\n",
        "learning_rate = 0.02\n",
        "training_epochs = 30\n",
        "batch_size = 100"
      ],
      "execution_count": 0,
      "outputs": []
    },
    {
      "cell_type": "code",
      "metadata": {
        "id": "r0KneRLbPVlD",
        "colab_type": "code",
        "colab": {}
      },
      "source": [
        "trans = transforms.Compose([transforms.Resize((224, 224)), \n",
        "                            transforms.ToTensor(),\n",
        "                            transforms.Normalize((0.485, 0.456, 0.406), (0.229, 0.224, 0.225))])\n",
        "\n",
        "train_data = dsets.ImageFolder(root='/content/gdrive/My Drive/project/classification/catsdogs/data/train_data',\n",
        "                               transform=trans)"
      ],
      "execution_count": 0,
      "outputs": []
    },
    {
      "cell_type": "code",
      "metadata": {
        "id": "M8oTcZu9QTD1",
        "colab_type": "code",
        "colab": {}
      },
      "source": [
        "#Dataloader\n",
        "data_loader = DataLoader(dataset = train_data, batch_size = batch_size,\n",
        "                         shuffle = True, num_workers=2, drop_last=True)"
      ],
      "execution_count": 0,
      "outputs": []
    },
    {
      "cell_type": "code",
      "metadata": {
        "id": "lhdajHAbQW5N",
        "colab_type": "code",
        "colab": {}
      },
      "source": [
        "#model CNN\n",
        "class CNN(nn.Module):\n",
        "    def __init__(self):\n",
        "        super(CNN, self).__init__()\n",
        "        # convolutional layer\n",
        "        self.conv1 = nn.Conv2d(3, 16, 5)\n",
        "        # max pooling layer\n",
        "        self.pool = nn.MaxPool2d(2, 2)\n",
        "        self.conv2 = nn.Conv2d(16, 32, 5)\n",
        "        self.dropout = nn.Dropout(0.2)\n",
        "        self.fc1 = nn.Linear(32*53*53, 256)\n",
        "        self.fc2 = nn.Linear(256, 84)\n",
        "        self.fc3 = nn.Linear(84, 2)\n",
        "        self.softmax = nn.LogSoftmax(dim=1)\n",
        "\n",
        "    def forward(self, x):\n",
        "        # add sequence of convolutional and max pooling layers\n",
        "        x = self.pool(F.relu(self.conv1(x)))\n",
        "        x = self.pool(F.relu(self.conv2(x)))\n",
        "        x = self.dropout(x)\n",
        "        x = x.view(-1, 32*53*53)\n",
        "        x = F.relu(self.fc1(x))\n",
        "        x = self.dropout(F.relu(self.fc2(x)))\n",
        "        x = self.softmax(self.fc3(x))\n",
        "        return x\n"
      ],
      "execution_count": 0,
      "outputs": []
    },
    {
      "cell_type": "code",
      "metadata": {
        "id": "0bIwbj55Rn0F",
        "colab_type": "code",
        "colab": {}
      },
      "source": [
        "model = CNN().to(device)"
      ],
      "execution_count": 0,
      "outputs": []
    },
    {
      "cell_type": "code",
      "metadata": {
        "id": "Eob7vUofwPwl",
        "colab_type": "code",
        "colab": {}
      },
      "source": [
        "test_input = (torch.Tensor(3,3,224,224)).to(device)\n",
        "test_out = model(test_input)"
      ],
      "execution_count": 0,
      "outputs": []
    },
    {
      "cell_type": "code",
      "metadata": {
        "id": "IlW1Ep-hQY3D",
        "colab_type": "code",
        "colab": {}
      },
      "source": [
        "#loss function\n",
        "criterion = nn.CrossEntropyLoss().to(device)"
      ],
      "execution_count": 0,
      "outputs": []
    },
    {
      "cell_type": "code",
      "metadata": {
        "id": "dygsraqZQbcj",
        "colab_type": "code",
        "colab": {}
      },
      "source": [
        "#optimizer\n",
        "optimizer = optim.SGD(model.parameters(), lr=learning_rate, momentum= 0.9)"
      ],
      "execution_count": 0,
      "outputs": []
    },
    {
      "cell_type": "code",
      "metadata": {
        "id": "BU6NhxO1Qc7z",
        "colab_type": "code",
        "outputId": "8a424acf-92cd-40e3-90f8-9c0011d592bf",
        "colab": {
          "base_uri": "https://localhost:8080/",
          "height": 561
        }
      },
      "source": [
        "#training\n",
        "total_batch = len(data_loader)\n",
        "print('Learning Started. It will takes some time.')\n",
        "\n",
        "for epoch in range(training_epochs):\n",
        "    avg_cost = 0\n",
        "    \n",
        "    for num, data in enumerate(data_loader): \n",
        "        imgs, labels = data\n",
        "        imgs = imgs.to(device) #input data\n",
        "        labels = labels.to(device) #label data\n",
        "        \n",
        "        optimizer.zero_grad()\n",
        "        hypothesis = model(imgs) #model에 input값을 넣으면 가설이 됨\n",
        "        \n",
        "        cost = criterion(hypothesis, labels) #가설과 실제 라벨 사이의 차이를 계산하는 loss\n",
        "        cost.backward()\n",
        "        optimizer.step()\n",
        "        \n",
        "        avg_cost += cost / total_batch #cost값을 쌓아줌\n",
        "        \n",
        "    print('[Epoch:{}] cost = {}'.format(epoch +1, avg_cost))\n",
        "print('Learning Finished!')"
      ],
      "execution_count": 190,
      "outputs": [
        {
          "output_type": "stream",
          "text": [
            "Learning Started. It will takes some time.\n",
            "[Epoch:1] cost = 0.6964457631111145\n",
            "[Epoch:2] cost = 0.6663315296173096\n",
            "[Epoch:3] cost = 0.646409809589386\n",
            "[Epoch:4] cost = 0.5964276194572449\n",
            "[Epoch:5] cost = 0.5733487010002136\n",
            "[Epoch:6] cost = 0.5851479768753052\n",
            "[Epoch:7] cost = 0.4938213527202606\n",
            "[Epoch:8] cost = 0.37592947483062744\n",
            "[Epoch:9] cost = 0.2662104666233063\n",
            "[Epoch:10] cost = 0.1833043396472931\n",
            "[Epoch:11] cost = 0.11438131332397461\n",
            "[Epoch:12] cost = 0.09056733548641205\n",
            "[Epoch:13] cost = 0.07484141737222672\n",
            "[Epoch:14] cost = 0.043094296008348465\n",
            "[Epoch:15] cost = 0.06640555709600449\n",
            "[Epoch:16] cost = 0.02583288960158825\n",
            "[Epoch:17] cost = 0.01825803704559803\n",
            "[Epoch:18] cost = 0.01825612224638462\n",
            "[Epoch:19] cost = 0.01665448769927025\n",
            "[Epoch:20] cost = 0.03359825536608696\n",
            "[Epoch:21] cost = 0.030917005613446236\n",
            "[Epoch:22] cost = 0.016622275114059448\n",
            "[Epoch:23] cost = 0.004858820699155331\n",
            "[Epoch:24] cost = 0.0031131329014897346\n",
            "[Epoch:25] cost = 0.010382309556007385\n",
            "[Epoch:26] cost = 0.006365091074258089\n",
            "[Epoch:27] cost = 0.009912046603858471\n",
            "[Epoch:28] cost = 0.003997106105089188\n",
            "[Epoch:29] cost = 0.003304271725937724\n",
            "[Epoch:30] cost = 0.0017251924145966768\n",
            "Learning Finished!\n"
          ],
          "name": "stdout"
        }
      ]
    },
    {
      "cell_type": "code",
      "metadata": {
        "id": "vbVJpj-3QkU4",
        "colab_type": "code",
        "colab": {}
      },
      "source": [
        "trans = transforms.Compose([transforms.Resize((224, 224)), \n",
        "                            transforms.ToTensor(), \n",
        "                            transforms.Normalize((0.485, 0.456, 0.406), (0.229, 0.224, 0.225))])\n",
        "\n",
        "test_data = dsets.ImageFolder(root='/content/gdrive/My Drive/project/classification/catsdogs/data/test_data',\n",
        "                               transform=trans)"
      ],
      "execution_count": 0,
      "outputs": []
    },
    {
      "cell_type": "code",
      "metadata": {
        "id": "mHzbRurdQpxj",
        "colab_type": "code",
        "colab": {}
      },
      "source": [
        "test_set = DataLoader(dataset = test_data, batch_size = len(test_data))"
      ],
      "execution_count": 0,
      "outputs": []
    },
    {
      "cell_type": "code",
      "metadata": {
        "id": "_rNTYm7ML1fl",
        "colab_type": "code",
        "colab": {
          "base_uri": "https://localhost:8080/",
          "height": 34
        },
        "outputId": "b23ec888-b5f8-403c-f331-d72d44db3704"
      },
      "source": [
        "correct = 0\n",
        "total = 0\n",
        "\n",
        "with torch.no_grad():\n",
        "    for data in test_set:\n",
        "        images, labels = data\n",
        "        images = images.to(device)\n",
        "        labels = labels.to(device)\n",
        "        outputs = model(images)\n",
        "        \n",
        "        _, predicted = torch.max(outputs.data, 1)\n",
        "        \n",
        "        total += labels.size(0)\n",
        "        \n",
        "        correct += (predicted == labels).sum().item()\n",
        "\n",
        "print('Accuracy of CNN on the test images: %d %%' % (\n",
        "    100 * correct / total))"
      ],
      "execution_count": 181,
      "outputs": [
        {
          "output_type": "stream",
          "text": [
            "Accuracy of CNN on the test images: 68 %\n"
          ],
          "name": "stdout"
        }
      ]
    },
    {
      "cell_type": "code",
      "metadata": {
        "id": "YsXtODTBUht8",
        "colab_type": "code",
        "colab": {}
      },
      "source": [
        ""
      ],
      "execution_count": 0,
      "outputs": []
    }
  ]
}